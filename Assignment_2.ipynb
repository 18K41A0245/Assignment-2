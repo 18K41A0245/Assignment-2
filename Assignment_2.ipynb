{
  "nbformat": 4,
  "nbformat_minor": 0,
  "metadata": {
    "colab": {
      "name": "Assignment-2.ipynb",
      "provenance": [],
      "collapsed_sections": [],
      "authorship_tag": "ABX9TyNauPU7FOOB9Uqn0K/D0wPg",
      "include_colab_link": true
    },
    "kernelspec": {
      "name": "python3",
      "display_name": "Python 3"
    }
  },
  "cells": [
    {
      "cell_type": "markdown",
      "metadata": {
        "id": "view-in-github",
        "colab_type": "text"
      },
      "source": [
        "<a href=\"https://colab.research.google.com/github/18K41A0245/Assignment-2/blob/master/Assignment_2.ipynb\" target=\"_parent\"><img src=\"https://colab.research.google.com/assets/colab-badge.svg\" alt=\"Open In Colab\"/></a>"
      ]
    },
    {
      "cell_type": "markdown",
      "metadata": {
        "id": "xwRNkTzBpDm3",
        "colab_type": "text"
      },
      "source": [
        "1.\tArea of Triangle :\n",
        "Given the lengths of three sides of a triangle, calculate the area of the triangle. "
      ]
    },
    {
      "cell_type": "code",
      "metadata": {
        "id": "FxsZqi89pUz_",
        "colab_type": "code",
        "colab": {
          "base_uri": "https://localhost:8080/",
          "height": 90
        },
        "outputId": "a7d5cb82-c948-459a-e4bc-6f9174996afa"
      },
      "source": [
        "a = int(input(\"enter side a: \"))\n",
        "b = int(input(\"enter side b: \"))\n",
        "c = int(input(\"enter side c: \"))\n",
        "if a + b > c:\n",
        "    if b + c > a:\n",
        "        if c + a > b:\n",
        "            s = (a + b + c) / 2\n",
        "            Area = (s * (s - a) * (s - b) * (s - c)) ** 0.5\n",
        "            print(\"Area of triangle is {}\".format(Area))\n",
        "else:\n",
        "    print(\"Triangle is not possible\")"
      ],
      "execution_count": null,
      "outputs": [
        {
          "output_type": "stream",
          "text": [
            "enter side a: 5\n",
            "enter side b: 6\n",
            "enter side c: 8\n",
            "Area of triangle is 14.981238266578634\n"
          ],
          "name": "stdout"
        }
      ]
    },
    {
      "cell_type": "markdown",
      "metadata": {
        "id": "-_6dK8GGpuS3",
        "colab_type": "text"
      },
      "source": [
        "2.\tTake a string from end user and check if the value is palindrome or not"
      ]
    },
    {
      "cell_type": "code",
      "metadata": {
        "id": "H1WlKrzOpy_d",
        "colab_type": "code",
        "colab": {
          "base_uri": "https://localhost:8080/",
          "height": 54
        },
        "outputId": "ecd67f40-1163-44a7-83b3-141cc93d1c72"
      },
      "source": [
        "s = input(\"enter string: \")\n",
        "rev = ''.join(reversed(s))\n",
        "if s == rev:\n",
        "    print(\"The string is palindrome\")\n",
        "else:\n",
        "    print(\"The string is not a palindrome\")"
      ],
      "execution_count": null,
      "outputs": [
        {
          "output_type": "stream",
          "text": [
            "enter string: madam\n",
            "The string is palindrome\n"
          ],
          "name": "stdout"
        }
      ]
    },
    {
      "cell_type": "markdown",
      "metadata": {
        "id": "RabCXIsFqApM",
        "colab_type": "text"
      },
      "source": [
        "3.\tWrite a program that reads a year from the user and displays a message \n",
        "Indicating whether or not it is a leap year."
      ]
    },
    {
      "cell_type": "code",
      "metadata": {
        "id": "31ELraJ8qHUi",
        "colab_type": "code",
        "colab": {
          "base_uri": "https://localhost:8080/",
          "height": 54
        },
        "outputId": "188748fb-9f2a-4c18-c39c-5cf27e09e35d"
      },
      "source": [
        "year = int(input(\"enter year: \"))\n",
        "if year % 4 == 0:\n",
        "    print(\"The year is leap year\")\n",
        "else:\n",
        "    print(\"The year is not a leap year\")"
      ],
      "execution_count": null,
      "outputs": [
        {
          "output_type": "stream",
          "text": [
            "enter year: 2020\n",
            "The year is leap year\n"
          ],
          "name": "stdout"
        }
      ]
    },
    {
      "cell_type": "markdown",
      "metadata": {
        "id": "5s_SrVP9qRaL",
        "colab_type": "text"
      },
      "source": [
        "4.\t Space To Hyphen problem \n",
        "Take a string as input, and replaces spaces “ “  with hyphens “-”, and returns a string."
      ]
    },
    {
      "cell_type": "code",
      "metadata": {
        "id": "Iw1Eu1vaqaze",
        "colab_type": "code",
        "colab": {
          "base_uri": "https://localhost:8080/",
          "height": 72
        },
        "outputId": "4cd71c76-4767-4467-921b-8614f63ac61b"
      },
      "source": [
        "string = input(\"enter string: \\n \")\n",
        "print(string.replace(\" \", \"-\"))"
      ],
      "execution_count": null,
      "outputs": [
        {
          "output_type": "stream",
          "text": [
            "enter string: \n",
            " This program converts space into hyphen\n",
            "This-program-converts-space-into-hyphen\n"
          ],
          "name": "stdout"
        }
      ]
    },
    {
      "cell_type": "markdown",
      "metadata": {
        "id": "g3dHl-ARqou4",
        "colab_type": "text"
      },
      "source": [
        "5.\tUnique Sort problem: \n",
        "Take a string as input that accepts a comma separated sequence of words as input and prints the unique words in sorted form (alphanumerically)."
      ]
    },
    {
      "cell_type": "code",
      "metadata": {
        "id": "SBnU0IIAquX8",
        "colab_type": "code",
        "colab": {
          "base_uri": "https://localhost:8080/",
          "height": 90
        },
        "outputId": "5e47118d-6ef3-4091-ea10-ad18e7c9d222"
      },
      "source": [
        "string = input(\"enter words: \\n \").split(\",\")\n",
        "s = list(set(string))\n",
        "s.sort()\n",
        "print(\"Alphanumericlly sorted list is :\")\n",
        "print(str(s))"
      ],
      "execution_count": null,
      "outputs": [
        {
          "output_type": "stream",
          "text": [
            "enter words: \n",
            " orange, white, red, green, magenta, cyan, pink, white\n",
            "Alphanumericlly sorted list is :\n",
            "[' cyan', ' green', ' magenta', ' pink', ' red', ' white', 'orange']\n"
          ],
          "name": "stdout"
        }
      ]
    },
    {
      "cell_type": "markdown",
      "metadata": {
        "id": "zSlf3pPrtPJx",
        "colab_type": "text"
      },
      "source": [
        "6.\tTax Calculator\n",
        "Ask the user for their monthly salary. Calculate whether they have to pay tax and if so, how much is that amount .Print the result"
      ]
    },
    {
      "cell_type": "code",
      "metadata": {
        "id": "aY6Kup2EtcUG",
        "colab_type": "code",
        "colab": {
          "base_uri": "https://localhost:8080/",
          "height": 54
        },
        "outputId": "5758463b-63f8-4ecc-de76-306b80894f40"
      },
      "source": [
        "tax = {1: 0, 2: 0.05, 3: 0.1, 4: 0.15, 5: 0.2, 6: 0.25, 7: 0.3}\n",
        "income = int(input(\"enter your salary: \"))\n",
        "if income < 250000:\n",
        "    i = 1\n",
        "elif 250001 < income < 500000:\n",
        "    i = 2\n",
        "elif 500001 < income < 750000:\n",
        "    i = 3\n",
        "elif 750001 < income < 1000000:\n",
        "    i = 4\n",
        "elif 1000000 < income < 1250000:\n",
        "    i = 5\n",
        "elif 1250001 < income < 1500000:\n",
        "    i = 6\n",
        "else:\n",
        "    i = 7\n",
        "income = income * tax[i]\n",
        "print(\"tax to be payed is {}\".format(income))"
      ],
      "execution_count": null,
      "outputs": [
        {
          "output_type": "stream",
          "text": [
            "enter your salary: 900000\n",
            "tax to be payed is 135000.0\n"
          ],
          "name": "stdout"
        }
      ]
    },
    {
      "cell_type": "markdown",
      "metadata": {
        "id": "awFw2IWMtpft",
        "colab_type": "text"
      },
      "source": [
        "7.\tTake a list of integers as an argument, and converts it into a single integer (return the integer)."
      ]
    },
    {
      "cell_type": "code",
      "metadata": {
        "id": "6HRY4K7btuWE",
        "colab_type": "code",
        "colab": {
          "base_uri": "https://localhost:8080/",
          "height": 145
        },
        "outputId": "904d307d-acd9-493f-c70d-048a484e4dbc"
      },
      "source": [
        "List = []\n",
        "num = int(input(\"enter number of elements: \"))\n",
        "print(\"enter elements: \")\n",
        "for i in range(0, num):\n",
        "    n = int(input())\n",
        "    List.append(n)\n",
        "print(\"List of integers entered is: {}\".format(List))\n",
        "string = [str(integers) for integers in List]\n",
        "s = \"\".join(string)\n",
        "integer = int(s)\n",
        "print(\"List as a single integer is: {}\".format(integer))"
      ],
      "execution_count": null,
      "outputs": [
        {
          "output_type": "stream",
          "text": [
            "enter number of elements: 3\n",
            "enter elements: \n",
            "11\n",
            "33\n",
            "50\n",
            "List of integers entered is: [11, 33, 50]\n",
            "List as a single integer is: 113350\n"
          ],
          "name": "stdout"
        }
      ]
    },
    {
      "cell_type": "markdown",
      "metadata": {
        "id": "p7TSOL8nt65G",
        "colab_type": "text"
      },
      "source": [
        "8.\tUnits of Time:\n",
        "Create a program that reads duration from the user as a number of days, hours, minutes, and seconds. Compute and display the total number of seconds represented by this duration. "
      ]
    },
    {
      "cell_type": "code",
      "metadata": {
        "id": "zS46SYb0t_aP",
        "colab_type": "code",
        "colab": {
          "base_uri": "https://localhost:8080/",
          "height": 108
        },
        "outputId": "638f4925-2ab3-4d98-d9c0-930bb5aba1f4"
      },
      "source": [
        "day = int(input(\"enter number of days: \"))\n",
        "hour = int(input(\"enter number of hours: \"))\n",
        "minute = int(input(\"enter number of minutes: \"))\n",
        "second = int(input(\"enter number of seconds: \"))\n",
        "s = day * 86400 + hour * 3600 + minute * 60 + second\n",
        "print(\"Total number of senconds represented by the duration of {0}-days {1}-hours {2}-minutes {3}-seconds is: {4}\".format(day, hour, minute, second, s))"
      ],
      "execution_count": null,
      "outputs": [
        {
          "output_type": "stream",
          "text": [
            "enter number of days: 2\n",
            "enter number of hours: 4\n",
            "enter number of minutes: 50\n",
            "enter number of seconds: 24\n",
            "Total number of senconds represented by the duration of 2-days 4-hours 50-minutes 24-seconds is: 190224\n"
          ],
          "name": "stdout"
        }
      ]
    },
    {
      "cell_type": "markdown",
      "metadata": {
        "id": "48Ql2XgduX6y",
        "colab_type": "text"
      },
      "source": [
        "9.\tSort 3 Integers\n",
        "Given three integers (given through user input), sort the numbers using |min| and  |max| functions."
      ]
    },
    {
      "cell_type": "code",
      "metadata": {
        "id": "NK8_8-1Zucun",
        "colab_type": "code",
        "colab": {
          "base_uri": "https://localhost:8080/",
          "height": 90
        },
        "outputId": "525d2471-0833-45aa-c322-8aa306d0464d"
      },
      "source": [
        "a = int(input(\"enter first number: \"))\n",
        "b = int(input(\"enter second number: \"))\n",
        "c = int(input(\"enter third number: \"))\n",
        "maximum = max(a, b, c)\n",
        "minimum = min(a, b, c)\n",
        "m = a + b + c - (maximum + minimum)\n",
        "print(\"the sorted numbers are: {0},{1},{2}\".format(minimum, m, maximum))"
      ],
      "execution_count": null,
      "outputs": [
        {
          "output_type": "stream",
          "text": [
            "enter first number: 10\n",
            "enter second number: 35\n",
            "enter third number: 4\n",
            "the sorted numbers are: 4,10,35\n"
          ],
          "name": "stdout"
        }
      ]
    },
    {
      "cell_type": "markdown",
      "metadata": {
        "id": "KyxQaXO3unet",
        "colab_type": "text"
      },
      "source": [
        "10.\tWrite a program that reads a date from the user and computes its immediate successor. The date is the format YYYY-MM-DD. So, 2020-04-15 will have the successor 2020-04-16."
      ]
    },
    {
      "cell_type": "code",
      "metadata": {
        "id": "4LDr36ikurl_",
        "colab_type": "code",
        "colab": {
          "base_uri": "https://localhost:8080/",
          "height": 108
        },
        "outputId": "e8bf1cb8-c81a-48e8-ea86-b0df0f35a842"
      },
      "source": [
        "year = int(input(\"enter year: \"))\n",
        "month = int(input(\"enter month between 1-12: \"))\n",
        "day = int(input(\"enter day between 1-31: \"))\n",
        "print(\"Date entered: {0}-{1}-{2}\".format(year, month, day))\n",
        "if year % 4 == 0:\n",
        "    leap_year = True\n",
        "else:\n",
        "    leap_year = False\n",
        "if month in (1, 3, 5, 7, 8, 10, 12):\n",
        "    month_length = 31\n",
        "elif month == 2:\n",
        "    if leap_year:\n",
        "        month_length = 29\n",
        "    else:\n",
        "        month_length = 28\n",
        "else:\n",
        "    month_length = 30\n",
        "if day < month_length:\n",
        "    day += 1\n",
        "else:\n",
        "    day = 1\n",
        "    if month == 12:\n",
        "        month = 1\n",
        "        year += 1\n",
        "    else:\n",
        "        month +=1\n",
        "print(\"The next date is: {0}-{1}-{2}\".format(year, month, day))"
      ],
      "execution_count": null,
      "outputs": [
        {
          "output_type": "stream",
          "text": [
            "enter year: 2020\n",
            "enter month between 1-12: 04\n",
            "enter day between 1-31: 15\n",
            "Date entered: 2020-4-15\n",
            "The next date is: 2020-4-16\n"
          ],
          "name": "stdout"
        }
      ]
    },
    {
      "cell_type": "markdown",
      "metadata": {
        "id": "5icPe64Uu_nJ",
        "colab_type": "text"
      },
      "source": [
        "11.\tCompute product of a list of numbers [45 ,3,2,89,72,1,10,7]\n",
        "Output: 121111200"
      ]
    },
    {
      "cell_type": "code",
      "metadata": {
        "id": "h1Fzf1R9vGKQ",
        "colab_type": "code",
        "colab": {
          "base_uri": "https://localhost:8080/",
          "height": 235
        },
        "outputId": "97c470b7-921e-4dce-f230-478f482d80b8"
      },
      "source": [
        "List = []\n",
        "n = int(input(\"enter number of elements: \"))\n",
        "print(\"enter elements: \")\n",
        "for i in range(0, n):\n",
        "    e = int(input())\n",
        "    List.append(e)\n",
        "print(\"the List entered is: {}\".format(List))\n",
        "l = 1\n",
        "for i in List:\n",
        "    l *= i\n",
        "print(\"multiplication of all elements in list is: {}\".format(l))"
      ],
      "execution_count": null,
      "outputs": [
        {
          "output_type": "stream",
          "text": [
            "enter number of elements: 8\n",
            "enter elements: \n",
            "45\n",
            "3\n",
            "2\n",
            "89\n",
            "72\n",
            "1\n",
            "10\n",
            "7\n",
            "the List entered is: [45, 3, 2, 89, 72, 1, 10, 7]\n",
            "multiplication of all elements in list is: 121111200\n"
          ],
          "name": "stdout"
        }
      ]
    },
    {
      "cell_type": "markdown",
      "metadata": {
        "id": "SDtyuLpgvXoq",
        "colab_type": "text"
      },
      "source": [
        "12.\tCompute given Num_list =  [5, 6,8 ,34,89,1] to get desired output\n",
        "Output: Out_list=[11,14,42,123,90]"
      ]
    },
    {
      "cell_type": "code",
      "metadata": {
        "id": "tCiQKbxxvbqy",
        "colab_type": "code",
        "colab": {
          "base_uri": "https://localhost:8080/",
          "height": 199
        },
        "outputId": "ea35afd4-531f-4920-e21e-746514be0682"
      },
      "source": [
        "List = []\n",
        "n = int(input(\"enter number of elements: \"))\n",
        "print(\"enter elements: \")\n",
        "for i in range(0, n):\n",
        "    e = int(input())\n",
        "    List.append(e)\n",
        "print(\"the List entered is: {}\".format(List))\n",
        "out_list = []\n",
        "for i in range(1, len(List)):\n",
        "    out_list.append(List[i] + List[i-1])\n",
        "print(\"Desired output list is: {}\".format(out_list))"
      ],
      "execution_count": null,
      "outputs": [
        {
          "output_type": "stream",
          "text": [
            "enter number of elements: 6\n",
            "enter elements: \n",
            "5\n",
            "6\n",
            "8\n",
            "34\n",
            "89\n",
            "1\n",
            "the List entered is: [5, 6, 8, 34, 89, 1]\n",
            "Desired output list is: [11, 14, 42, 123, 90]\n"
          ],
          "name": "stdout"
        }
      ]
    },
    {
      "cell_type": "markdown",
      "metadata": {
        "id": "iyCuc-qHw57o",
        "colab_type": "text"
      },
      "source": [
        "13.\t Compute given Num_tuple =  (5, 6,8 ,3,9,1) to get desired output\n",
        "Output: Out_list = [5, 30, 240, 720, 6480, 6480]"
      ]
    },
    {
      "cell_type": "code",
      "metadata": {
        "id": "9oYNM3J8w9ta",
        "colab_type": "code",
        "colab": {
          "base_uri": "https://localhost:8080/",
          "height": 35
        },
        "outputId": "09194e18-5c41-49f0-fc80-efa303ba7de2"
      },
      "source": [
        "Num_tuple = (5, 6, 8, 3, 9, 1)\n",
        "List = []\n",
        "m = 1\n",
        "for i in Num_tuple:\n",
        "    m *= i\n",
        "    List.append(m)\n",
        "print(\"multplication list of all elements are: {}\".format(List))"
      ],
      "execution_count": null,
      "outputs": [
        {
          "output_type": "stream",
          "text": [
            "multplication list of all elements are: [5, 30, 240, 720, 6480, 6480]\n"
          ],
          "name": "stdout"
        }
      ]
    },
    {
      "cell_type": "markdown",
      "metadata": {
        "id": "K13-IY4ExDLM",
        "colab_type": "text"
      },
      "source": [
        "14.\t Write a Python code that takes a number and returns a list of its digits. So for 586392 it should return [5,8,6,3,9,2]"
      ]
    },
    {
      "cell_type": "code",
      "metadata": {
        "id": "PDvI8lq2x2MW",
        "colab_type": "code",
        "colab": {
          "base_uri": "https://localhost:8080/",
          "height": 54
        },
        "outputId": "25e053ea-56f5-46d7-eed0-5cb536721a5b"
      },
      "source": [
        "num = int(input(\"enter number: \"))\n",
        "List = []\n",
        "for i in str(num):\n",
        "    List.append(int(i))\n",
        "print(List)"
      ],
      "execution_count": null,
      "outputs": [
        {
          "output_type": "stream",
          "text": [
            "enter number: 586392\n",
            "[5, 8, 6, 3, 9, 2]\n"
          ],
          "name": "stdout"
        }
      ]
    },
    {
      "cell_type": "markdown",
      "metadata": {
        "id": "TOk992gtx-Z2",
        "colab_type": "text"
      },
      "source": [
        "15.\tWrite a program that finds the longest palindromic substring of a given string"
      ]
    },
    {
      "cell_type": "code",
      "metadata": {
        "id": "KAdmDEPUyCyB",
        "colab_type": "code",
        "colab": {
          "base_uri": "https://localhost:8080/",
          "height": 54
        },
        "outputId": "0d908ec3-7782-427d-a89b-0bd6f8bf7823"
      },
      "source": [
        "class Palindrome(object):\n",
        "  def longestpalindrome(self, s):\n",
        "    d = [[False for i in range(len(s))] for i in range(len(s))]\n",
        "    for i in range(len(s)):\n",
        "        d[i][i]=True\n",
        "    maxlen = 1\n",
        "    start = 0\n",
        "    for j in range(2, len(s) + 1):\n",
        "        for i in range(len(s) - j + 1):\n",
        "            end=i + j\n",
        "            if j == 2:\n",
        "                if s[i] == s[end-1]:\n",
        "                    d[i][end - 1] = True\n",
        "                    maxlen = j\n",
        "                    start = i\n",
        "            else:\n",
        "                if s[i] == s[end - 1] and d[i + 1][end - 2]:\n",
        "                    d[i][end - 1] = True\n",
        "                    maxlen = j \n",
        "                    start = i\n",
        "    return s[start:start + maxlen]\n",
        "s = input(\"enter a string: \")\n",
        "ob = Palindrome()\n",
        "print(ob.longestpalindrome(s))"
      ],
      "execution_count": null,
      "outputs": [
        {
          "output_type": "stream",
          "text": [
            "enter a string: abbabbc\n",
            "bbabb\n"
          ],
          "name": "stdout"
        }
      ]
    },
    {
      "cell_type": "markdown",
      "metadata": {
        "id": "4rd2ZKlr000L",
        "colab_type": "text"
      },
      "source": [
        "16.\t Substring Check (Bug Funny)\n",
        "Given two binary strings, A (of length 10) and B (of length 5), output 1 if B is a substring of A and 0 otherwise.\n",
        "First two lines of input:\n",
        "\n",
        "1010110010          10110\n",
        "1110111011           10011\n",
        "First two lines of output:\n",
        "1\n",
        "0"
      ]
    },
    {
      "cell_type": "code",
      "metadata": {
        "id": "zHx1vOjw08Yi",
        "colab_type": "code",
        "colab": {
          "base_uri": "https://localhost:8080/",
          "height": 72
        },
        "outputId": "9e0d64a5-bd98-4430-8de0-f9d837fae831"
      },
      "source": [
        "string = input(\"Enter binary string: \")\n",
        "substring = input(\"Enter binary substring: \")\n",
        "if(string.find(substring) == -1):\n",
        "    print(\"0\")\n",
        "else:\n",
        "    print(\"1\")"
      ],
      "execution_count": null,
      "outputs": [
        {
          "output_type": "stream",
          "text": [
            "Enter binary string: 1010110010\n",
            "Enter binary substring: 101101\n",
            "0\n"
          ],
          "name": "stdout"
        }
      ]
    },
    {
      "cell_type": "markdown",
      "metadata": {
        "id": "UjyjhUaF1ItQ",
        "colab_type": "text"
      },
      "source": [
        "17.\t  POUR1 - Pouring water:\n",
        "\n",
        "Given two vessels, one of which can accommodate a litres of water and the other - b litres of water, determine the number of steps required to obtain exactly c litres of water in one of the vessels.\n",
        "At the beginning both vessels are empty. The following operations are counted as 'steps':\n",
        "•\temptying a vessel,\n",
        "•\tfilling a vessel,\n",
        "•\tpouring water from one vessel to the other, without spilling, until one of the vessels is either full or empty.\n",
        "\n",
        "Input:\n",
        "An integer t, 1<=t<=100, denoting the number of testcases , followed by t sets of input data, each consisting of three positive integers a, b, c, not larger than 40000, given in separate lines.\n",
        "\n",
        "Output:\n",
        "For each set of input data, output the minimum number of steps required to obtain c litres, or -1 if this is impossible.\n"
      ]
    },
    {
      "cell_type": "code",
      "metadata": {
        "id": "MA5VUFk_1iWQ",
        "colab_type": "code",
        "colab": {
          "base_uri": "https://localhost:8080/",
          "height": 181
        },
        "outputId": "1f466d24-1eff-4b82-ca26-a1e4768131c8"
      },
      "source": [
        "def gcd(a, b):\n",
        "    if b == 0:\n",
        "        return a\n",
        "    return gcd(b, a % b)\n",
        "def countsteps(a, b, c):\n",
        "    v1 = b\n",
        "    v2 = 0\n",
        "    count = 1\n",
        "    while((v1 is not c) and (v2 is not c)):\n",
        "        temp = min(v1, a - v2)\n",
        "        v2 += temp\n",
        "        v1 -= temp\n",
        "        count += 1\n",
        "        if v2 == c or v1 == c:\n",
        "            break\n",
        "        if v1 == 0:\n",
        "            v1 = b\n",
        "            count += 1\n",
        "        if v2 == a:\n",
        "            v2 = 0\n",
        "            count += 1\n",
        "    return count\n",
        "def ispossible(a, b, c):\n",
        "    if a > b:\n",
        "        temp = a\n",
        "        a = b\n",
        "        b = temp\n",
        "    if c > b:\n",
        "        return -1\n",
        "    if c % gcd(b, a) is not 0:\n",
        "        return -1\n",
        "    return min(countsteps(b, a, c), countsteps(a, b, c))\n",
        "t = int(input(\"Enter no. of test cases: \"))\n",
        "for i in range(t):\n",
        "    a = int(input(\"enter capacity of vessel a: \"))\n",
        "    b = int(input(\"enter capacity of vessel b: \"))    \n",
        "    c = int(input(\"enter capacity to be obtained: \"))\n",
        "    print(\"Minimum number of steps required is: {}\".format(ispossible(a, b, c)))"
      ],
      "execution_count": 4,
      "outputs": [
        {
          "output_type": "stream",
          "text": [
            "Enter no. of test cases: 2\n",
            "enter capacity of vessel a: 2\n",
            "enter capacity of vessel b: 3\n",
            "enter capacity to be obtained: 4\n",
            "Minimum number of steps required is: -1\n",
            "enter capacity of vessel a: 5\n",
            "enter capacity of vessel b: 2\n",
            "enter capacity to be obtained: 3\n",
            "Minimum number of steps required is: 2\n"
          ],
          "name": "stdout"
        }
      ]
    }
  ]
}